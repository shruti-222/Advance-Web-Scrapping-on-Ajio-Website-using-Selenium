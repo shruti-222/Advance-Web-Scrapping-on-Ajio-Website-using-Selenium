{
 "cells": [
  {
   "cell_type": "code",
   "execution_count": 1,
   "id": "ac7f90dd",
   "metadata": {},
   "outputs": [],
   "source": [
    "import time\n",
    "from selenium import webdriver\n",
    "from selenium.webdriver.chrome.service import Service"
   ]
  },
  {
   "cell_type": "code",
   "execution_count": 4,
   "id": "758f0082",
   "metadata": {},
   "outputs": [],
   "source": [
    "s = Service('C:/Users/HP/Desktop/chromedriver_win32.exe')\n",
    "driver = webdriver.Chrome(service= s)"
   ]
  },
  {
   "cell_type": "code",
   "execution_count": 6,
   "id": "9647ad08",
   "metadata": {},
   "outputs": [],
   "source": [
    "driver.get('https://www.ajio.com/men-backpacks/c/830201001')"
   ]
  },
  {
   "cell_type": "code",
   "execution_count": 7,
   "id": "a22dfadb",
   "metadata": {},
   "outputs": [],
   "source": [
    "old_height = driver.execute_script('return document.body.scrollHeight')"
   ]
  },
  {
   "cell_type": "code",
   "execution_count": 9,
   "id": "5021aa4e",
   "metadata": {},
   "outputs": [
    {
     "name": "stdout",
     "output_type": "stream",
     "text": [
      "1\n",
      "9385\n",
      "25435\n",
      "2\n",
      "25435\n",
      "25435\n"
     ]
    }
   ],
   "source": [
    "counter = 1\n",
    "while True:\n",
    "    driver.execute_script('window.scrollTo(0,document.body.scrollHeight)')\n",
    "    time.sleep(2)\n",
    "    \n",
    "    new_height = driver.execute_script('return document.body.scrollHeight')\n",
    "    print(counter)\n",
    "    counter += 1\n",
    "    print(old_height)\n",
    "    print(new_height)\n",
    "    \n",
    "    if new_height == old_height:\n",
    "        break\n",
    "\n",
    "    old_height = new_height"
   ]
  },
  {
   "cell_type": "code",
   "execution_count": 11,
   "id": "1647bb8f",
   "metadata": {},
   "outputs": [],
   "source": [
    "html = driver.page_source\n",
    "with open('Ajio.html','w',encoding = 'utf-8') as f:\n",
    "     f.write(html)"
   ]
  },
  {
   "cell_type": "code",
   "execution_count": null,
   "id": "c091e07f",
   "metadata": {},
   "outputs": [],
   "source": []
  }
 ],
 "metadata": {
  "kernelspec": {
   "display_name": "Python 3 (ipykernel)",
   "language": "python",
   "name": "python3"
  },
  "language_info": {
   "codemirror_mode": {
    "name": "ipython",
    "version": 3
   },
   "file_extension": ".py",
   "mimetype": "text/x-python",
   "name": "python",
   "nbconvert_exporter": "python",
   "pygments_lexer": "ipython3",
   "version": "3.9.12"
  }
 },
 "nbformat": 4,
 "nbformat_minor": 5
}
